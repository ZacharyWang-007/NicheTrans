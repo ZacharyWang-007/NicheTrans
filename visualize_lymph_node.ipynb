{
 "cells": [
  {
   "cell_type": "code",
   "execution_count": null,
   "metadata": {},
   "outputs": [],
   "source": [
    "import pandas as pd\n",
    "import numpy as np\n",
    "import scanpy as sc\n",
    "import matplotlib.pyplot as plt\n",
    "import argparse\n",
    "\n",
    "from palettable.cartocolors.diverging import *\n",
    "from palettable.scientific.diverging import *"
   ]
  },
  {
   "cell_type": "code",
   "execution_count": null,
   "metadata": {},
   "outputs": [],
   "source": [
    "parser = argparse.ArgumentParser(description='oh visualization')\n",
    "parser.add_argument('--img_size', default=256, type=int)\n",
    "parser.add_argument('--workers', default=4, type=int, help=\"number of data loading workers (default: 4)\")\n",
    "parser.add_argument('--train_batch', default=32, type=int)\n",
    "parser.add_argument('--test_batch', default=32, type=int)\n",
    "\n",
    "args, _ = parser.parse_known_args()"
   ]
  },
  {
   "cell_type": "markdown",
   "metadata": {},
   "source": [
    "# Load dataset"
   ]
  },
  {
   "cell_type": "code",
   "execution_count": null,
   "metadata": {},
   "outputs": [],
   "source": [
    "n_top_genes = 3000\n",
    "\n",
    "rna_path = '/home/wzk/ST_data/2024_nmethods_SpatialGlue_Human_lymph_node_3slides/slice2/s2_adata_rna.h5ad'\n",
    "protein_path = '/home/wzk/ST_data/2024_nmethods_SpatialGlue_Human_lymph_node_3slides/slice2/s2_adata_adt.h5ad'\n",
    "\n",
    "##\n",
    "adata_rna_testing = sc.read_h5ad(rna_path)\n",
    "adata_rna_testing.obs['array_row'] = -adata_rna_testing.obsm['spatial'][:, 0]\n",
    "adata_rna_testing.obs['array_col'] = -adata_rna_testing.obsm['spatial'][:, 1]\n",
    "\n",
    "##\n",
    "adata_msi_testing = sc.read_h5ad(protein_path)\n",
    "\n",
    "adata_msi_testing.obs['array_row'] = adata_msi_testing.obsm['spatial'][:, 0]\n",
    "adata_msi_testing.obs['array_col'] = adata_msi_testing.obsm['spatial'][:, 1]"
   ]
  },
  {
   "cell_type": "code",
   "execution_count": null,
   "metadata": {},
   "outputs": [],
   "source": [
    "from datasets.human_lymph_node_data_manager import *\n",
    "from utils.utils_dataloader import *\n",
    "\n",
    "dataset = Lymph_node()\n",
    "_, testloader = human_node_dataloader(args, dataset)"
   ]
  },
  {
   "cell_type": "markdown",
   "metadata": {},
   "source": [
    "# Load model"
   ]
  },
  {
   "cell_type": "code",
   "execution_count": null,
   "metadata": {},
   "outputs": [],
   "source": [
    "from model.nicheTrans import *\n",
    "source_dimension, target_dimension = dataset.rna_length, dataset.msi_length\n",
    "\n",
    "model = NicheTrans(source_length=source_dimension, target_length=target_dimension, noise_rate=0.2, dropout_rate=0.1)\n",
    "model = nn.DataParallel(model).cuda()\n",
    "\n",
    "model.load_state_dict(torch.load('./last.pth'))\n",
    "model.eval() "
   ]
  },
  {
   "cell_type": "markdown",
   "metadata": {},
   "source": [
    "# Inference "
   ]
  },
  {
   "cell_type": "code",
   "execution_count": null,
   "metadata": {},
   "outputs": [],
   "source": [
    "pd_dictionary, gt_dictionary = defaultdict(), defaultdict()\n",
    "pd_value, gt_value = [], [] \n",
    "\n",
    "with torch.no_grad():\n",
    "    for _, (rna, protein, rna_neighbors, _) in enumerate(testloader):\n",
    "\n",
    "        rna, protein, rna_neighbors = rna.cuda(), protein.cuda(), rna_neighbors.cuda()\n",
    "        source, target, source_neightbors = rna, protein, rna_neighbors\n",
    "\n",
    "        outputs = model(source, source_neightbors)\n",
    "\n",
    "        pd_value.append(outputs)\n",
    "        gt_value.append(target)"
   ]
  },
  {
   "cell_type": "markdown",
   "metadata": {},
   "source": [
    "# Model evaluation"
   ]
  },
  {
   "cell_type": "code",
   "execution_count": null,
   "metadata": {},
   "outputs": [],
   "source": [
    "pd_value = torch.cat(pd_value, dim=0).cpu().numpy()\n",
    "gt_value = torch.cat(gt_value, dim=0).cpu().numpy()"
   ]
  },
  {
   "cell_type": "code",
   "execution_count": null,
   "metadata": {},
   "outputs": [],
   "source": [
    "from scipy.stats import spearmanr\n",
    "\n",
    "pcc, spcc, rmse = [], [], []\n",
    "for i in range(len(dataset.target_panel)):\n",
    "    pcc.append( np.corrcoef(pd_value[:, i], gt_value[:, i])[0, 1] )\n",
    "    spcc.append( spearmanr(pd_value[:, i], gt_value[:, i])[0] )\n",
    "    rmse.append( np.sqrt(np.mean((pd_value[:, i] - gt_value[:, i]) ** 2)) )\n",
    "\n",
    "dict = {\n",
    "    \"pearson\": pcc,\n",
    "    \"spearman\": spcc,\n",
    "    \"rmse\": rmse\n",
    "}\n",
    "\n",
    "df = pd.DataFrame(dict)\n",
    "df.index = dataset.target_panel\n",
    "\n",
    "df.to_csv('pcc_spcc_rmse.csv')"
   ]
  },
  {
   "cell_type": "code",
   "execution_count": null,
   "metadata": {},
   "outputs": [],
   "source": [
    "pd_adata = adata_msi_testing.copy()\n",
    "pd_adata.X = pd_value\n",
    "\n",
    "pd_adata.write('./results/pd_msi.h5ad')\n",
    "adata_msi_testing.write('./results/gt_msi.h5ad')"
   ]
  },
  {
   "cell_type": "code",
   "execution_count": null,
   "metadata": {},
   "outputs": [],
   "source": [
    "pd_value = np.exp((pd_value * dataset.std) + dataset.mean)\n",
    "gt_value = np.exp((gt_value * dataset.std) + dataset.mean)"
   ]
  },
  {
   "cell_type": "code",
   "execution_count": null,
   "metadata": {},
   "outputs": [],
   "source": [
    "proteins = adata_msi_testing.var['gene_ids'].values\n",
    "\n",
    "for index, protein in enumerate(proteins):\n",
    "    adata_msi_testing.obs['pd_' + protein ] = pd_value[:, index]\n",
    "    adata_msi_testing.obs['gt_' + protein ] = gt_value[:, index]\n",
    "    "
   ]
  },
  {
   "cell_type": "code",
   "execution_count": null,
   "metadata": {},
   "outputs": [],
   "source": [
    "# protein = 'PAX5'\n",
    "protein = 'HLA-DRA'\n",
    "# protein = 'VIM'\n",
    "\n",
    "fig, ax = plt.subplots(1, figsize=(4, 3), dpi=100)\n",
    "sc.pl.embedding(adata_msi_testing, basis='spatial', color='pd_' + protein, title=f'prediction {protein}', ax=ax, show=False, cmap=Tropic_7.mpl_colormap, size=30) \n",
    "\n",
    "fig.savefig('./results/pd_{}.eps'.format(protein), format='eps', dpi=300, bbox_inches='tight')  \n",
    "fig.savefig('./results/pd_{}.png'.format(protein), format='png', dpi=300, bbox_inches='tight')\n",
    "\n",
    "fig, ax = plt.subplots(1, figsize=(4, 3), dpi=100)\n",
    "sc.pl.embedding(adata_msi_testing, basis='spatial', color='gt_' + protein, title=f'Ground Truth {protein}', ax=ax, show=False, cmap=Tropic_7.mpl_colormap, size=30, vmax=90000) \n",
    "\n",
    "fig.savefig('./results/gt_{}.eps'.format(protein), format='eps', dpi=300, bbox_inches='tight')  \n",
    "fig.savefig('./results/gt_{}.png'.format(protein), format='png', dpi=300, bbox_inches='tight')"
   ]
  },
  {
   "cell_type": "code",
   "execution_count": null,
   "metadata": {},
   "outputs": [],
   "source": [
    "protein = 'CD3E'\n",
    "\n",
    "fig, ax = plt.subplots(1, figsize=(4, 3), dpi=100)\n",
    "sc.pl.embedding(adata_msi_testing, basis='spatial', color='pd_' + protein, title=f'prediction {protein}', ax=ax, show=False, cmap=Tropic_7.mpl_colormap, size=30) \n",
    "\n",
    "fig.savefig('./results/pd_{}.eps'.format(protein), format='eps', dpi=300, bbox_inches='tight')  \n",
    "fig.savefig('./results/pd_{}.png'.format(protein), format='png', dpi=300, bbox_inches='tight')\n",
    "\n",
    "fig, ax = plt.subplots(1, figsize=(4, 3), dpi=100)\n",
    "sc.pl.embedding(adata_msi_testing, basis='spatial', color='gt_' + protein, title=f'Ground Truth {protein}', ax=ax, show=False, cmap=Tropic_7.mpl_colormap, size=30) \n",
    "\n",
    "fig.savefig('./results/gt_{}.eps'.format(protein), format='eps', dpi=300, bbox_inches='tight')  \n",
    "fig.savefig('./results/gt_{}.png'.format(protein), format='png', dpi=300, bbox_inches='tight')"
   ]
  }
 ],
 "metadata": {
  "kernelspec": {
   "display_name": "pytorch_zk",
   "language": "python",
   "name": "python3"
  },
  "language_info": {
   "codemirror_mode": {
    "name": "ipython",
    "version": 3
   },
   "file_extension": ".py",
   "mimetype": "text/x-python",
   "name": "python",
   "nbconvert_exporter": "python",
   "pygments_lexer": "ipython3",
   "version": "3.8.19"
  }
 },
 "nbformat": 4,
 "nbformat_minor": 2
}
